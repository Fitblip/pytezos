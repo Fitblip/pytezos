{
 "cells": [
  {
   "cell_type": "markdown",
   "metadata": {},
   "source": [
    "# Check what you are voting for with PyTezos"
   ]
  },
  {
   "cell_type": "code",
   "execution_count": 1,
   "metadata": {},
   "outputs": [],
   "source": [
    "import sys\n",
    "assert sys.version_info.major == 3 and sys.version_info.minor >= 6"
   ]
  },
  {
   "cell_type": "code",
   "execution_count": 2,
   "metadata": {},
   "outputs": [],
   "source": [
    "import os\n",
    "sys.path.insert(1, os.path.abspath('..'))"
   ]
  },
  {
   "cell_type": "markdown",
   "metadata": {},
   "source": [
    "## Current voting phase\n",
    "\n",
    "Say, you don't read any news and all you have is public node access and documentation.  \n",
    "How to determine what is the current voting phase?  "
   ]
  },
  {
   "cell_type": "code",
   "execution_count": 3,
   "metadata": {},
   "outputs": [],
   "source": [
    "from pytezos.rpc import mainnet"
   ]
  },
  {
   "cell_type": "code",
   "execution_count": 4,
   "metadata": {},
   "outputs": [
    {
     "data": {
      "text/plain": [
       "'proposal'"
      ]
     },
     "execution_count": 4,
     "metadata": {},
     "output_type": "execute_result"
    }
   ],
   "source": [
    "mainnet.head.votes.current_period_kind()"
   ]
  },
  {
   "cell_type": "markdown",
   "metadata": {},
   "source": [
    "Great, we are at the first stage, now we want to know when did it start and when it will ends.  \n",
    "We can get this information from the block metadata:"
   ]
  },
  {
   "cell_type": "code",
   "execution_count": 39,
   "metadata": {},
   "outputs": [
    {
     "data": {
      "text/plain": [
       "{'level': 349140,\n",
       " 'level_position': 349139,\n",
       " 'cycle': 85,\n",
       " 'cycle_position': 979,\n",
       " 'voting_period': 10,\n",
       " 'voting_period_position': 21459,\n",
       " 'expected_commitment': False}"
      ]
     },
     "execution_count": 39,
     "metadata": {},
     "output_type": "execute_result"
    }
   ],
   "source": [
    "level_info = mainnet.head.metadata.get('level')\n",
    "level_info"
   ]
  },
  {
   "cell_type": "markdown",
   "metadata": {},
   "source": [
    "Get precise boundaries in levels and rough estimation in days"
   ]
  },
  {
   "cell_type": "code",
   "execution_count": 40,
   "metadata": {},
   "outputs": [],
   "source": [
    "import pendulum"
   ]
  },
  {
   "cell_type": "code",
   "execution_count": 93,
   "metadata": {},
   "outputs": [
    {
     "data": {
      "text/plain": [
       "327681"
      ]
     },
     "execution_count": 93,
     "metadata": {},
     "output_type": "execute_result"
    }
   ],
   "source": [
    "start_level = level_info['level'] - level_info['voting_period_position']\n",
    "start_level"
   ]
  },
  {
   "cell_type": "code",
   "execution_count": 98,
   "metadata": {},
   "outputs": [
    {
     "data": {
      "text/plain": [
       "360448"
      ]
     },
     "execution_count": 98,
     "metadata": {},
     "output_type": "execute_result"
    }
   ],
   "source": [
    "end_level = start + 8 * 4096 - 1  # eight cycles of 4096 blocks\n",
    "end_level"
   ]
  },
  {
   "cell_type": "code",
   "execution_count": 118,
   "metadata": {},
   "outputs": [
    {
     "name": "stdout",
     "output_type": "stream",
     "text": [
      "15.5 days passed\n"
     ]
    }
   ],
   "source": [
    "start_dt = pendulum.parse(mainnet.blocks[start_level].header.get('timestamp'))\n",
    "time_past = (pendulum.now() - start_dt)\n",
    "print(round(time_past.total_days(), 1), 'days passed')"
   ]
  },
  {
   "cell_type": "code",
   "execution_count": 119,
   "metadata": {},
   "outputs": [
    {
     "name": "stdout",
     "output_type": "stream",
     "text": [
      "8.2 days left\n"
     ]
    }
   ],
   "source": [
    "time_left = (end_level - level_info['level']) / (level_info['level'] - start_level) * time_past\n",
    "print(round(time_left.total_days(), 1), 'days left')"
   ]
  },
  {
   "cell_type": "markdown",
   "metadata": {},
   "source": [
    "## Current proposals"
   ]
  },
  {
   "cell_type": "code",
   "execution_count": 99,
   "metadata": {},
   "outputs": [
    {
     "data": {
      "text/plain": [
       "[['Psd1ynUBhMZAeajwcZJAeq5NrxorM6UCU4GJqxZ7Bx2e9vUWB6z', 5176],\n",
       " ['Pt24m4xiPbLDhVgVfABUjirbmda3yohdN82Sp9FeuAXJ4eV9otd', 11770]]"
      ]
     },
     "execution_count": 99,
     "metadata": {},
     "output_type": "execute_result"
    }
   ],
   "source": [
    "proposals = mainnet.head.votes.proposals()\n",
    "proposals"
   ]
  },
  {
   "cell_type": "markdown",
   "metadata": {},
   "source": [
    "Let's examine one of proposals"
   ]
  },
  {
   "cell_type": "code",
   "execution_count": 100,
   "metadata": {},
   "outputs": [
    {
     "data": {
      "text/plain": [
       "'Pt24m4xiPbLDhVgVfABUjirbmda3yohdN82Sp9FeuAXJ4eV9otd'"
      ]
     },
     "execution_count": 100,
     "metadata": {},
     "output_type": "execute_result"
    }
   ],
   "source": [
    "proposal_id = proposals[1][0]\n",
    "proposal_id"
   ]
  },
  {
   "cell_type": "markdown",
   "metadata": {},
   "source": [
    "### Injection operation\n",
    "\n",
    "It's interesting to find the author of the proposal.  \n",
    "In order to do that we have to search for the first `proposals` operation for this particular proposal_id."
   ]
  },
  {
   "cell_type": "code",
   "execution_count": 120,
   "metadata": {},
   "outputs": [],
   "source": [
    "from pytezos.rpc.search import SearchChain"
   ]
  },
  {
   "cell_type": "code",
   "execution_count": 121,
   "metadata": {},
   "outputs": [],
   "source": [
    "sc = SearchChain.from_chain(mainnet.main)"
   ]
  },
  {
   "cell_type": "markdown",
   "metadata": {},
   "source": [
    "Thanks to the statefullness of the Tezos blockchain we can perform a binary search inside the voting period.  \n",
    "The algorithm searches for the first level where number of votes changed from 0 to non-zero."
   ]
  },
  {
   "cell_type": "code",
   "execution_count": 122,
   "metadata": {},
   "outputs": [
    {
     "name": "stderr",
     "output_type": "stream",
     "text": [
      "2019-03-12 15:03:47.543 | DEBUG    | pytezos.rpc.search:bisect:29 - 714 at level 338427\n",
      "2019-03-12 15:03:48.414 | DEBUG    | pytezos.rpc.search:bisect:29 - 23 at level 333054\n",
      "2019-03-12 15:03:49.377 | DEBUG    | pytezos.rpc.search:bisect:29 - 0 at level 330367\n",
      "2019-03-12 15:03:50.143 | DEBUG    | pytezos.rpc.search:bisect:29 - 0 at level 331710\n",
      "2019-03-12 15:03:50.950 | DEBUG    | pytezos.rpc.search:bisect:29 - 0 at level 332382\n",
      "2019-03-12 15:03:51.784 | DEBUG    | pytezos.rpc.search:bisect:29 - 11 at level 332718\n",
      "2019-03-12 15:03:52.667 | DEBUG    | pytezos.rpc.search:bisect:29 - 0 at level 332550\n",
      "2019-03-12 15:03:54.077 | DEBUG    | pytezos.rpc.search:bisect:29 - 11 at level 332634\n",
      "2019-03-12 15:03:54.934 | DEBUG    | pytezos.rpc.search:bisect:29 - 0 at level 332592\n",
      "2019-03-12 15:03:55.721 | DEBUG    | pytezos.rpc.search:bisect:29 - 0 at level 332613\n",
      "2019-03-12 15:03:56.601 | DEBUG    | pytezos.rpc.search:bisect:29 - 0 at level 332623\n",
      "2019-03-12 15:03:57.418 | DEBUG    | pytezos.rpc.search:bisect:29 - 11 at level 332628\n",
      "2019-03-12 15:03:58.187 | DEBUG    | pytezos.rpc.search:bisect:29 - 11 at level 332625\n",
      "2019-03-12 15:03:58.995 | DEBUG    | pytezos.rpc.search:bisect:29 - 11 at level 332624\n"
     ]
    }
   ],
   "source": [
    "operation = sc.find_proposal_inject_operation(proposal_id)"
   ]
  },
  {
   "cell_type": "code",
   "execution_count": 123,
   "metadata": {},
   "outputs": [
    {
     "data": {
      "text/plain": [
       "{'protocol': 'PsddFKi32cMJ2qPjf43Qv5GDWLDPZb3T3bF6fLKiF5HtvHNU7aP',\n",
       " 'chain_id': 'NetXdQprcVkpaWU',\n",
       " 'hash': 'onydFJLWdGhfKNBfbnSLmqDu93j9NRimkbQm9WqLWYG8eyZUyTF',\n",
       " 'branch': 'BL53WJx6xPn6rnTnWZmpNaWGAQqU8HTwRTDqVDmthYsxUTBewo9',\n",
       " 'contents': [{'kind': 'proposals',\n",
       "   'source': 'tz1fNdh4YftsUasbB1BWBpqDmr4sFZaPNZVL',\n",
       "   'period': 10,\n",
       "   'proposals': ['Pt24m4xiPbLDhVgVfABUjirbmda3yohdN82Sp9FeuAXJ4eV9otd',\n",
       "    'Psd1ynUBhMZAeajwcZJAeq5NrxorM6UCU4GJqxZ7Bx2e9vUWB6z'],\n",
       "   'metadata': {}}],\n",
       " 'signature': 'sigvUqvh7rBS8yAoE5RMieQaD5hvg9NsLeJ4kTnXdK1tXXyrHL8mX7E3KCm9q9YgYbJn3edhcUiZjdU3xNhVPEUPkSGVNbi9'}"
      ]
     },
     "execution_count": 123,
     "metadata": {},
     "output_type": "execute_result"
    }
   ],
   "source": [
    "operation()"
   ]
  },
  {
   "cell_type": "markdown",
   "metadata": {},
   "source": [
    "We can perform some checks on this operation, such as signature validation:"
   ]
  },
  {
   "cell_type": "code",
   "execution_count": 124,
   "metadata": {},
   "outputs": [],
   "source": [
    "operation.verify_signature()"
   ]
  },
  {
   "cell_type": "markdown",
   "metadata": {},
   "source": [
    "The only thing we can learn about the submitter's identity is his public key:"
   ]
  },
  {
   "cell_type": "code",
   "execution_count": 126,
   "metadata": {},
   "outputs": [
    {
     "data": {
      "text/plain": [
       "'edpktyybTTrLm2rk6bn7xtgY9t2Kgt9GnqZxEcSrunm4vKWTF9ES9o'"
      ]
     },
     "execution_count": 126,
     "metadata": {},
     "output_type": "execute_result"
    }
   ],
   "source": [
    "mainnet.get_public_key(operation.source())"
   ]
  },
  {
   "cell_type": "code",
   "execution_count": 141,
   "metadata": {},
   "outputs": [
    {
     "data": {
      "text/plain": [
       "4"
      ]
     },
     "execution_count": 141,
     "metadata": {},
     "output_type": "execute_result"
    }
   ],
   "source": [
    "timestamp = mainnet.blocks[operation.get('branch')].header.get('timestamp')\n",
    "inject_dt = pendulum.parse(timestamp)\n",
    "print('Ins' (inject_dt - start_dt).days + 1)"
   ]
  },
  {
   "cell_type": "code",
   "execution_count": 133,
   "metadata": {},
   "outputs": [
    {
     "name": "stdout",
     "output_type": "stream",
     "text": [
      "12.0 days passed\n"
     ]
    }
   ],
   "source": [
    "print(round((pendulum.now() - inject_dt).total_days(), 1), 'days passed')"
   ]
  },
  {
   "cell_type": "code",
   "execution_count": null,
   "metadata": {},
   "outputs": [],
   "source": []
  },
  {
   "cell_type": "markdown",
   "metadata": {},
   "source": [
    "### Current protocol source"
   ]
  },
  {
   "cell_type": "code",
   "execution_count": null,
   "metadata": {},
   "outputs": [],
   "source": [
    "current_proto = mainnet.protocols[operation.get('protocol')]\n",
    "current_proto"
   ]
  },
  {
   "cell_type": "markdown",
   "metadata": {},
   "source": [
    "Load files from blockchain, encode (without protocol-compiler binary) and get hash"
   ]
  },
  {
   "cell_type": "code",
   "execution_count": null,
   "metadata": {},
   "outputs": [],
   "source": [
    "current_hash = current_proto.calculate_hash()\n",
    "current_hash"
   ]
  },
  {
   "cell_type": "code",
   "execution_count": null,
   "metadata": {},
   "outputs": [],
   "source": [
    "assert current_hash == operation.get('protocol')"
   ]
  },
  {
   "cell_type": "markdown",
   "metadata": {},
   "source": [
    "### Source code"
   ]
  },
  {
   "cell_type": "markdown",
   "metadata": {},
   "source": [
    "Unfortunately it's practically impossible to get proposal source from the blockchain.\n",
    "We could get lucky and find the submitter's node (in case it's public) which has to know this proto (according to the docs).\n",
    "The other option is try to find a node in zeronet which has participated in the voting rehearsal."
   ]
  },
  {
   "cell_type": "code",
   "execution_count": null,
   "metadata": {},
   "outputs": [],
   "source": [
    "tar_url = 'https://blog.nomadic-labs.com/files/Athens_proposal_A.tar'"
   ]
  },
  {
   "cell_type": "code",
   "execution_count": null,
   "metadata": {},
   "outputs": [],
   "source": [
    "from pytezos.rpc.protocol import Protocol"
   ]
  },
  {
   "cell_type": "markdown",
   "metadata": {},
   "source": [
    "Loading sources and convert them to the internal format (as in blockchain)"
   ]
  },
  {
   "cell_type": "code",
   "execution_count": null,
   "metadata": {},
   "outputs": [],
   "source": [
    "athens_a = Protocol.from_uri(tar_url)"
   ]
  },
  {
   "cell_type": "code",
   "execution_count": null,
   "metadata": {},
   "outputs": [],
   "source": [
    "proto_id = athens_a.calculate_hash()\n",
    "proto_id"
   ]
  },
  {
   "cell_type": "code",
   "execution_count": null,
   "metadata": {},
   "outputs": [],
   "source": [
    "assert proposal_id == proto_id"
   ]
  },
  {
   "cell_type": "markdown",
   "metadata": {},
   "source": [
    "### Get unified diff"
   ]
  },
  {
   "cell_type": "code",
   "execution_count": null,
   "metadata": {},
   "outputs": [],
   "source": [
    "patch = current_proto.diff(athens_a, context_size=3)"
   ]
  },
  {
   "cell_type": "markdown",
   "metadata": {},
   "source": [
    "Generate github-like side-by-side patch views, powered by diff2html.js"
   ]
  },
  {
   "cell_type": "code",
   "execution_count": null,
   "metadata": {},
   "outputs": [],
   "source": [
    "patch.export_html(output_path='report.html')"
   ]
  },
  {
   "cell_type": "markdown",
   "metadata": {},
   "source": [
    "[View report](./report.html)"
   ]
  },
  {
   "cell_type": "markdown",
   "metadata": {},
   "source": [
    "### Get all voting operations for this proposal"
   ]
  },
  {
   "cell_type": "code",
   "execution_count": null,
   "metadata": {},
   "outputs": [],
   "source": [
    "for operation in sc.find_proposal_votes_operations(proposals[0][0]):\n",
    "    print(operation())\n",
    "    break  # this can take a while"
   ]
  },
  {
   "cell_type": "markdown",
   "metadata": {},
   "source": [
    "Search algorithm works as follows:\n",
    "1. Split block interval into equal chunks\n",
    "2. Determine which of the intervals contain state changes\n",
    "3. For each interval run binary search\n",
    "4. If there are several changes inside single interval, run binary search again\n",
    "\n",
    "It's obvious that the search space can be easily splitted and processed independently, i.e parallelized. "
   ]
  },
  {
   "cell_type": "markdown",
   "metadata": {},
   "source": [
    "### Storing protocol diff"
   ]
  },
  {
   "cell_type": "code",
   "execution_count": null,
   "metadata": {},
   "outputs": [],
   "source": [
    "ctxless_patch = current_proto.diff(athens_a, context_size=0)"
   ]
  },
  {
   "cell_type": "code",
   "execution_count": null,
   "metadata": {},
   "outputs": [],
   "source": [
    "ctxless_patch.export_tar('diff.tar.bz2')"
   ]
  },
  {
   "cell_type": "code",
   "execution_count": null,
   "metadata": {},
   "outputs": [],
   "source": [
    "os.path.getsize('diff.tar.bz2')"
   ]
  },
  {
   "cell_type": "markdown",
   "metadata": {},
   "source": [
    "As we pointed earlier there is no convenient way to get proposal source from the blockchain. This can be implemented via smart-contract. But it's more reasonable to store compressed code diff rather than full source.\n",
    "\n",
    "Compare 13 KB vs 1.2 MB (original tar)"
   ]
  },
  {
   "cell_type": "markdown",
   "metadata": {},
   "source": [
    "### Applying protocol diff"
   ]
  },
  {
   "cell_type": "code",
   "execution_count": null,
   "metadata": {},
   "outputs": [],
   "source": [
    "proto = current_proto.apply(ctxless_patch)"
   ]
  },
  {
   "cell_type": "code",
   "execution_count": null,
   "metadata": {},
   "outputs": [],
   "source": [
    "assert proto_id == proto.calculate_hash()"
   ]
  },
  {
   "cell_type": "code",
   "execution_count": null,
   "metadata": {},
   "outputs": [],
   "source": []
  }
 ],
 "metadata": {
  "kernelspec": {
   "display_name": "python 3.7",
   "language": "python",
   "name": "python36"
  },
  "language_info": {
   "codemirror_mode": {
    "name": "ipython",
    "version": 3
   },
   "file_extension": ".py",
   "mimetype": "text/x-python",
   "name": "python",
   "nbconvert_exporter": "python",
   "pygments_lexer": "ipython3",
   "version": "3.7.0"
  }
 },
 "nbformat": 4,
 "nbformat_minor": 2
}
